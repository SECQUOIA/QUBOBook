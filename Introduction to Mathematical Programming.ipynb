{
 "cells": [
  {
   "cell_type": "markdown",
   "metadata": {},
   "source": [
    "<a name=\"top\" id=\"top\"></a>\n",
    "\n",
    "<div align=\"center\">\n",
    "    <h1>Introduction to Mathematical Programming</h1>\n",
    "    <a href=\"https://github.com/bernalde\">David E. Bernal Neira</a>\n",
    "    <br>\n",
    "    <i>Davidson School of Chemical Engineering, Purdue University</i>\n",
    "    <br>\n",
    "    <br>\n",
    "    <a href=\"https://github.com/pedromxavier\">Pedro Maciel Xavier</a>\n",
    "    <br>\n",
    "    <i>Davidson School of Chemical Engineering, Purdue University</i>\n",
    "    <br>\n",
    "    <i>Computer Science &amp; Systems Engineering Program, Federal University of Rio de Janeiro</i>\n",
    "    <br>\n",
    "    <i>PSR Energy Consulting &amp; Analytics</i>\n",
    "    <br>\n",
    "    <br>\n",
    "    <a href=\"https://github.com/murraybj\">Benjamin J. L. Murray</a>\n",
    "    <br>\n",
    "    <i>Davidson School of Chemical Engineering, Purdue University</i>\n",
    "    <br>\n",
    "    <i>Undergraduate Research Assistant</i>\n",
    "    <br>\n",
    "    <br>\n",
    "    <a href=\"https://colab.research.google.com/github/JuliaQUBO/QUBONotebooks/blob/main/notebooks_py/1-MathProg_python.ipynb\" target=\"_parent\">\n",
    "        <img src=\"https://colab.research.google.com/assets/colab-badge.svg\" alt=\"Open In Colab\"/>\n",
    "    </a>\n",
    "    <a href=\"https://secquoia.github.io/\">\n",
    "        <img src=\"https://img.shields.io/badge/🌲⚛️🌐-SECQUOIA-blue\" alt=\"SECQUOIA\"/>\n",
    "    </a>\n",
    "</div>"
   ]
  },
  {
   "cell_type": "markdown",
   "metadata": {},
   "source": [
    "## Introduction to Mathematical Programming\n",
    "### Modeling\n",
    "The solution of optimization problems requires the development of a mathematical model. Here we will model an example given in the lecture and see how an integer program can be solved practically. This example will use as modeling language **[Pyomo](http://www.pyomo.org/)**, an open-source Python package, which provides a flexible access to different solvers and a general modeling framework for linear and nonlinear integer programs.\n",
    "The examples solved here will make use of open-source solvers **[GLPK](https://www.gnu.org/software/glpk/)** and **[CLP/CBC](https://projects.coin-or.org/Cbc)** for linear and mixed-integer linear programming, **[IPOPT](https://coin-or.github.io/Ipopt/)** for interior point (non)linear programming, **[BONMIN](https://www.coin-or.org/Bonmin/)** for convex integer nonlinear programming and **[COUENNE](https://projects.coin-or.org/Couenne)** for nonconvex (global) integer nonlinear programming."
   ]
  },
  {
   "cell_type": "code",
   "execution_count": null,
   "metadata": {},
   "outputs": [],
   "source": [
    "# If using this on Google collab, we need to install the packages\n",
    "try:\n",
    "  import google.colab\n",
    "  IN_COLAB = True\n",
    "except:\n",
    "  IN_COLAB = False\n",
    "\n",
    "# Let's start with Pyomo\n",
    "if IN_COLAB:\n",
    "    !pip install -q pyomo\n"
   ]
  },
  {
   "cell_type": "code",
   "execution_count": null,
   "metadata": {},
   "outputs": [],
   "source": [
    "# Import the Pyomo library, which can be installed via pip, conda or from Github https://github.com/Pyomo/pyomo\n",
    "import pyomo.environ as pyo\n",
    "# Import Matplotlib to generate plots\n",
    "import matplotlib.pyplot as plt\n",
    "# Import numpy and scipy for certain numerical calculations below\n",
    "import numpy as np\n",
    "from scipy.special import gamma\n",
    "import math\n",
    "import sys\n",
    "import os"
   ]
  },
  {
   "cell_type": "markdown",
   "metadata": {},
   "source": [
    "#### Problem statement\n",
    "\n",
    "Suppose there is a company that produces two different products, A and B, which can be sold at different values, $\\$5.5$ and $\\$2.1$ per unit, respectively.\n",
    "The company only counts with a single machine with electricity usage of at most 17kW/day. Producing each A and B consumes $8\\text{kW}/\\text{day}$ and $2\\text{kW}/\\text{day}$, respectively.\n",
    "Besides, the company can only produce at most $2$ more units of B than A per day."
   ]
  },
  {
   "cell_type": "markdown",
   "metadata": {},
   "source": [
    "### Linear Programming\n",
    "This is a valid model, but it would be easier to solve if we had a mathematical representation.\n",
    "Assuming the units produced of A are $x_1$ and of B are $x_2$ we have\n",
    "\n",
    "$$\n",
    "\\begin{array}{rl}\n",
    "    \\displaystyle%\n",
    "    \\max_{x_1, x_2} & 5.5x_1 + 2.1x_2 \\\\\n",
    "    \\textrm{s.t.}   & x_2 \\le x_1 + 2 \\\\\n",
    "                    & 8x_1 + 2x_2 \\le 17 \\\\\n",
    "                    & x_1, x_2 \\ge 0\n",
    "\\end{array}\n",
    "$$"
   ]
  },
  {
   "cell_type": "code",
   "execution_count": null,
   "metadata": {},
   "outputs": [],
   "source": [
    "# Generate the feasible region plot of this problem\n",
    "\n",
    "# Define meshgrid for feasible region\n",
    "d = np.linspace(-0.5,3.5,300)\n",
    "x1,x2 = np.meshgrid(d,d)\n",
    "\n",
    "# Define the lines for the constraints\n",
    "x = np.linspace(x1.min(), x1.max(), 2000)\n",
    "# x2 <= x1 + 2\n",
    "x21 = x + 2\n",
    "# 8*x1 + 2*x2 <= 17\n",
    "x22 = (17-8*x)/2.0\n",
    "# obj: min 7.3x1 + 2.1x2\n",
    "Z = 5.5*x1 + 2.1*x2\n",
    "\n",
    "# generate heatmap from objective function\n",
    "objective_heatmap = np.fromfunction(lambda i, j:5.5 * i + 2.1 * j,(300,300), dtype=float)\n",
    "\n",
    "# Plot feasible region\n",
    "fig, ax = plt.subplots()\n",
    "feas_reg = ax.imshow( (\n",
    "    (x1>=0) &           # Bound 1 \n",
    "    (x2>=0) &           # Bound 2\n",
    "    (x2 <= x1 + 2) &    # Constraint 1\n",
    "    (8*x1 + 2*x2 <= 17) # Constraint 2\n",
    "    ).astype(int) \n",
    "    * objective_heatmap, # objective function\n",
    "                extent=(x1.min(),x1.max(),x2.min(),x2.max()),origin=\"lower\", cmap=\"OrRd\", alpha = 1)\n",
    "\n",
    "# Make plots of constraints\n",
    "ax.plot(x, x21, label=r'$x_2 \\leq x_1 + 2$')\n",
    "ax.plot(x, x22, label=r'$8x_1 + 2x_2 \\leq 17$')\n",
    "\n",
    "# Nonnegativitivy constraints\n",
    "plt.plot(x, np.zeros_like(x), label=r'$x_2 \\geq 0$')\n",
    "plt.plot(np.zeros_like(x), x, label=r'$x_1 \\geq 0$')\n",
    "\n",
    "# plot formatting\n",
    "plt.title(\"LP Feasible Region \\n max $z = 5.5x_{1} + 2.1x_{2}$\",fontsize=10,y=1)\n",
    "plt.xlim(x1.min(),x1.max())\n",
    "plt.ylim(x2.min(),x2.max())\n",
    "plt.legend(loc='upper right', prop={'size': 6})\n",
    "plt.xlabel(r'$x_1$')\n",
    "plt.ylabel(r'$x_2$')\n",
    "plt.grid(alpha=0.2)\n"
   ]
  },
  {
   "cell_type": "code",
   "execution_count": null,
   "metadata": {},
   "outputs": [],
   "source": [
    "# Define the model\n",
    "model = pyo.ConcreteModel(name='Simple example LP')\n",
    "# Define the variables\n",
    "model.x = pyo.Var([1,2], domain=pyo.NonNegativeReals)\n",
    "# Define the objective function\n",
    "def _obj(m):\n",
    "    return 5.5*m.x[1] + 2.1*m.x[2]\n",
    "\n",
    "model.obj = pyo.Objective(rule = _obj, sense=pyo.maximize)\n",
    "# Define the constraints\n",
    "def _constraint1(m):\n",
    "    return m.x[2] <= m.x[1] + 2\n",
    "\n",
    "def _constraint2(m):\n",
    "    return 8*m.x[1] + 2*m.x[2] <= 17\n",
    "    \n",
    "model.Constraint1 = pyo.Constraint(rule = _constraint1)\n",
    "\n",
    "model.Constraint2 = pyo.Constraint(rule = _constraint2)\n",
    "# Print the model\n",
    "model.pprint()"
   ]
  },
  {
   "cell_type": "code",
   "execution_count": null,
   "metadata": {},
   "outputs": [],
   "source": [
    "# Let's install the LP/MIP solvers GLPK and CBC\n",
    "if IN_COLAB:\n",
    "    !apt-get install -y -qq glpk-utils\n",
    "    !apt-get install -y -qq coinor-cbc\n",
    "    "
   ]
  },
  {
   "cell_type": "code",
   "execution_count": null,
   "metadata": {},
   "outputs": [],
   "source": [
    "# Define the solvers GLPK and CBC\n",
    "if IN_COLAB:\n",
    "    opt_glpk = pyo.SolverFactory('glpk', executable='/usr/bin/glpsol')\n",
    "    opt_cbc = pyo.SolverFactory('cbc', executable='/usr/bin/cbc')\n",
    "else:\n",
    "    opt_glpk = pyo.SolverFactory('glpk')\n",
    "    opt_cbc = pyo.SolverFactory('cbc')\n",
    "# Here we could use another solver, e.g. gurobi or cplex\n",
    "# opt_gurobi = pyo.SolverFactory('gurobi')"
   ]
  },
  {
   "cell_type": "code",
   "execution_count": null,
   "metadata": {},
   "outputs": [],
   "source": [
    "# Here we solve the optimization problem, the option tee=True prints the solver output\n",
    "result_obj = opt_glpk.solve(model, tee=True)"
   ]
  },
  {
   "cell_type": "code",
   "execution_count": null,
   "metadata": {},
   "outputs": [],
   "source": [
    "# Display solution of the problem\n",
    "model.display()"
   ]
  },
  {
   "cell_type": "code",
   "execution_count": null,
   "metadata": {},
   "outputs": [],
   "source": [
    "# Optimal solution LP\n",
    "ax.scatter(1.3,3.3,color='r', label='optimal solution LP')\n",
    "ax.get_legend().remove()\n",
    "ax.legend(bbox_to_anchor=(1.05, 1), loc=2, borderaxespad=0.)\n",
    "fig.canvas.draw()\n",
    "fig"
   ]
  },
  {
   "cell_type": "markdown",
   "metadata": {},
   "source": [
    "We observe that the optimal solution of this problem is $x_1 = 1.3$, $x_2 = 3.3$, leading to a profit of $14.08$."
   ]
  },
  {
   "cell_type": "code",
   "execution_count": null,
   "metadata": {},
   "outputs": [],
   "source": [
    "# We obtain the same solution with CBC\n",
    "result_obj = opt_cbc.solve(model, tee=False)\n",
    "model.display()"
   ]
  },
  {
   "cell_type": "markdown",
   "metadata": {},
   "source": [
    "The solvers GLPK and CLP implement the simplex method (with many improvements) by default but we can also use an interior point method thorugh the solver IPOPT (interior point optimizer). IPOPT is able to not only solve linear but also nonlinear problems."
   ]
  },
  {
   "cell_type": "code",
   "execution_count": null,
   "metadata": {},
   "outputs": [],
   "source": [
    "# Define the solver IPOPT\n",
    "if IN_COLAB:\n",
    "    !pip install idaes-pse --pre\n",
    "    !idaes get-extensions --to ./solvers\n",
    "    os.environ['PATH'] += ':solvers'\n",
    "    opt_ipopt = pyo.SolverFactory('ipopt', executable='/content/solvers/ipopt')\n",
    "else:\n",
    "    opt_ipopt = pyo.SolverFactory('ipopt')"
   ]
  },
  {
   "cell_type": "code",
   "execution_count": null,
   "metadata": {},
   "outputs": [],
   "source": [
    "# Here we solve the optimization problem, the option tee=True prints the solver output\n",
    "result_obj_ipopt = opt_ipopt.solve(model, tee=True)\n",
    "model.display()"
   ]
  },
  {
   "cell_type": "markdown",
   "metadata": {},
   "source": [
    "We obtain the same result as previously, but notice that the interior point method reports some solution subject to certain tolerance, given by its convergence properties when it can get infinitesimally close (but not directly at) the boundary of the feasible region."
   ]
  },
  {
   "cell_type": "markdown",
   "metadata": {},
   "source": [
    "## Let's go back to the slides"
   ]
  },
  {
   "cell_type": "markdown",
   "metadata": {},
   "source": [
    "### Integer Programming\n",
    "Now let's consider that only integer units of each product can be produced, namely\n",
    "$$\n",
    "\\max_{x_1, x_2} 5.5x_1 + 2.1x_2 \\\\\n",
    "s.t. x_2 \\leq x_1 + 2 \\\\\n",
    "8x_1 + 2x_2 \\leq 17 \\\\\n",
    "x_1, x_2 \\geq 0 \\\\\n",
    "x_1, x_2 \\in \\mathbb{Z}\n",
    "$$"
   ]
  },
  {
   "cell_type": "code",
   "execution_count": null,
   "metadata": {},
   "outputs": [],
   "source": [
    "# Define grid for integer points\n",
    "x1_int, x2_int = np.meshgrid(range(math.ceil(x1.max())), range(math.ceil(x2.max())))\n",
    "idx = ((x1_int>=0) & (x2_int <= x1_int + 2) & (8*x1_int + 2*x2_int <= 17) & (x2_int>=0))\n",
    "x1_int, x2_int = x1_int[idx], x2_int[idx]\n",
    "ax.scatter(x1_int,x2_int,color='k', label='integer points')\n",
    "\n",
    "# Plotting optimal solution IP\n",
    "# plt.title(\"LP Feasible Region \\n max $z = 5.5x_{1} + 2.1x_{2}$\",fontsize=10,y=1)\n",
    "ax.set_title(\"ILP Feasible Region \\n max $z = 5.5x_{1} + 2.1x_{2}$\")\n",
    "ax.get_legend().remove()\n",
    "ax.legend(bbox_to_anchor=(1.05, 1), loc=2, borderaxespad=0.)\n",
    "fig.canvas.draw()\n",
    "fig"
   ]
  },
  {
   "cell_type": "code",
   "execution_count": null,
   "metadata": {},
   "outputs": [],
   "source": [
    "# Define the integer model\n",
    "model_ilp = pyo.ConcreteModel(name='Simple example IP, 47-779 QuIP')\n",
    "#Define the variables\n",
    "model_ilp.x = pyo.Var([1,2], domain=pyo.Integers)\n",
    "# Define the objective function\n",
    "model_ilp.obj = pyo.Objective(rule = _obj, sense=pyo.maximize)\n",
    "# Define the constraints\n",
    "model_ilp.Constraint1 = pyo.Constraint(rule = _constraint1)\n",
    "\n",
    "model_ilp.Constraint2 = pyo.Constraint(rule = _constraint2)\n",
    "# Print the model\n",
    "model_ilp.pprint()"
   ]
  },
  {
   "cell_type": "code",
   "execution_count": null,
   "metadata": {},
   "outputs": [],
   "source": [
    "# Here we solve the optimization problem, the option tee=True prints the solver output\n",
    "result_obj_ilp = opt_cbc.solve(model_ilp, tee=False)"
   ]
  },
  {
   "cell_type": "code",
   "execution_count": null,
   "metadata": {},
   "outputs": [],
   "source": [
    "model_ilp.display()"
   ]
  },
  {
   "cell_type": "code",
   "execution_count": null,
   "metadata": {},
   "outputs": [],
   "source": [
    "# Optimal solution ILP\n",
    "ax.scatter(1,3,color='c', label='optimal solution ILP')\n",
    "ax.get_legend().remove()\n",
    "ax.legend(bbox_to_anchor=(1.05, 1), loc=2, borderaxespad=0.)\n",
    "fig.canvas.draw()\n",
    "fig"
   ]
  },
  {
   "cell_type": "markdown",
   "metadata": {},
   "source": [
    "Here the solution becomes $x_1 = 1, x_2 = 3$ with an objective of $11.8$."
   ]
  },
  {
   "cell_type": "markdown",
   "metadata": {},
   "source": [
    "#### Enumeration\n",
    "Enumerating all the possible solutions in this problem might be very efficient (there are only 8 feasible solutions), this this we only know from the plot. Assuming that the upper bounds for variables was instead 4, the possible solutions would then be 16. With a larger number of variables the enumeration turns to be impractical. For $n$ binary variables (we can always \"binarize\" the integer variables) the number of possible solutions is $2^n$.\n",
    "\n",
    "In many other applications, the possible solutions come from permutations of the integer variables (e.g. assignment problems), which grow as $n!$ with the size of the input.\n",
    "\n",
    "This growth makes the problem grow out of control fairly quickly."
   ]
  },
  {
   "cell_type": "code",
   "execution_count": null,
   "metadata": {},
   "outputs": [],
   "source": [
    "fig2, ax2 = plt.subplots()\n",
    "n = np.arange(1,100,1)\n",
    "ax2.plot(n,np.exp(n*np.log(2)), label=r'$2^n$')\n",
    "ax2.plot(n,gamma(n), label=r'$n!$')\n",
    "\n",
    "ax2.plot(n,3.154E16*np.ones_like(n), 'g--', label=r'ns in a year')\n",
    "ax2.plot(n,4.3E26*np.ones_like(n), 'k--', label=r'age of the universe in ns')\n",
    "ax2.plot(n,6E79*np.ones_like(n), 'r--', label=r'atoms in the universe')\n",
    "plt.yscale('log')\n",
    "\n",
    "plt.legend()\n",
    "plt.xlabel(r'$n$')\n",
    "plt.ylabel('Possible solutions')"
   ]
  },
  {
   "cell_type": "markdown",
   "metadata": {},
   "source": [
    "## Let's go back to the slides"
   ]
  },
  {
   "cell_type": "markdown",
   "metadata": {},
   "source": [
    "### Integer convex nonlinear programming\n",
    "The following constraint \"the production of B minus 1 squared can only be smaller than 2 minus the production of A\" can be incorporated  in the following convex integer nonlinear program\n",
    "$$\n",
    "\\max_{x_1, x_2} 5.5x_1 + 2.1x_2 \\\\\n",
    "s.t. x_2 \\leq x_1 + 2 \\\\\n",
    "8x_1 + 2x_2 \\leq 17 \\\\\n",
    "(x_2-1)^2 \\leq 2-x_1\\\\\n",
    "x_1, x_2 \\geq 0 \\\\\n",
    "x_1, x_2 \\in \\mathbb{Z}\n",
    "$$"
   ]
  },
  {
   "cell_type": "code",
   "execution_count": null,
   "metadata": {},
   "outputs": [],
   "source": [
    "# Define grid for integer points\n",
    "feas_reg.remove()\n",
    "feas_reg = ax.imshow( (\n",
    "    (x1>=0) &           # Bound 1 \n",
    "    (x2>=0) &           # Bound 2\n",
    "    (x2 <= x1 + 2) &    # Constraint 1\n",
    "    (8*x1 + 2*x2 <= 17) & # Constraint 2\n",
    "    ((x2-1)**2 <= 2-x1) # Nonlinear constraint\n",
    "    ).astype(int) \n",
    "    * objective_heatmap, # objective function, \n",
    "                extent=(x1.min(),x1.max(),x2.min(),x2.max()),origin=\"lower\", cmap=\"OrRd\", alpha = .8)\n",
    "\n",
    "\n",
    "x1nl = 2- (x - 1)**2\n",
    "# Nonlinear constraint\n",
    "nl_const = ax.plot(x1nl, x, label=r'$(x_2-1)^2 \\leq 2-x_1$')\n",
    "\n",
    "# Plotting optimal solution INLP\n",
    "ax.set_title(\"INLP Feasible Region \\n max $z = 5.5x_{1} + 2.1x_{2}$\")\n",
    "ax.get_legend().remove()\n",
    "ax.legend(bbox_to_anchor=(1.05, 1), loc=2, borderaxespad=0.)\n",
    "fig.canvas.draw()\n",
    "fig"
   ]
  },
  {
   "cell_type": "code",
   "execution_count": null,
   "metadata": {},
   "outputs": [],
   "source": [
    "# Define the integer model\n",
    "model_cinlp = pyo.ConcreteModel(name='Simple example convex INLP, 47-779 QuIP')\n",
    "#Define the variables\n",
    "model_cinlp.x = pyo.Var([1,2], domain=pyo.Integers)\n",
    "# Define the objective function\n",
    "model_cinlp.obj = pyo.Objective(rule = _obj, sense=pyo.maximize)\n",
    "# Define the constraints\n",
    "model_cinlp.Constraint1 = pyo.Constraint(rule = _constraint1)\n",
    "\n",
    "model_cinlp.Constraint2 = pyo.Constraint(rule = _constraint2)\n",
    "\n",
    "model_cinlp.Constraint3 = pyo.Constraint(expr = (model_cinlp.x[2]-1)**2 <= 2 - model_cinlp.x[1])\n",
    "\n",
    "\n",
    "# Print the model\n",
    "model_cinlp.pprint()"
   ]
  },
  {
   "cell_type": "code",
   "execution_count": null,
   "metadata": {},
   "outputs": [],
   "source": [
    "# Define the solver BONMIN\n",
    "if IN_COLAB:\n",
    "    opt_bonmin = pyo.SolverFactory('bonmin', executable='/content/solvers/bonmin')\n",
    "else:\n",
    "    opt_bonmin = pyo.SolverFactory('bonmin')"
   ]
  },
  {
   "cell_type": "code",
   "execution_count": null,
   "metadata": {},
   "outputs": [],
   "source": [
    "# Here we solve the optimization problem, the option tee=True prints the solver output\n",
    "result_obj_cinlp = opt_bonmin.solve(model_cinlp, tee=False)\n",
    "model_cinlp.display()"
   ]
  },
  {
   "cell_type": "code",
   "execution_count": null,
   "metadata": {},
   "outputs": [],
   "source": [
    "ax.scatter(1,2,color='m', label='optimal solution convex INLP')\n",
    "ax.get_legend().remove()\n",
    "ax.legend(bbox_to_anchor=(1.05, 1), loc=2, borderaxespad=0.)\n",
    "fig.canvas.draw()\n",
    "fig"
   ]
  },
  {
   "cell_type": "markdown",
   "metadata": {},
   "source": [
    "In this case the optimal solution becomes $x_1 = 1, x_2 = 2$ with an objective of $9.7$."
   ]
  },
  {
   "cell_type": "markdown",
   "metadata": {},
   "source": [
    "### Integer non-convex programming\n",
    "The last constraint \"the production of B minus 1 squared can only be greater than the production of A plus one half\" can be incorporated  in the following convex integer nonlinear program\n",
    "$$\n",
    "\\max_{x_1, x_2} 5.5x_1 + 2.1x_2 \\\\\n",
    "s.t. x_2 \\leq x_1 + 2 \\\\\n",
    "8x_1 + 2x_2 \\leq 17 \\\\\n",
    "(x_2-1)^2 \\leq 2-x_1\\\\\n",
    "(x_2-1)^2 \\geq 1/2+x_1\\\\\n",
    "x_1, x_2 \\geq 0 \\\\\n",
    "x_1, x_2 \\in \\mathbb{Z}\n",
    "$$"
   ]
  },
  {
   "cell_type": "code",
   "execution_count": null,
   "metadata": {},
   "outputs": [],
   "source": [
    "# Define grid for integer points\n",
    "feas_reg.remove()\n",
    "feas_reg = ax.imshow( (\n",
    "    (x1>=0) &           # Bound 1 \n",
    "    (x2>=0) &           # Bound 2\n",
    "    (x2 <= x1 + 2) &    # Constraint 1\n",
    "    (8*x1 + 2*x2 <= 17) & # Constraint 2\n",
    "    ((x2-1)**2 <= 2-x1) & # Nonlinear constraint 1\n",
    "    ((x2-1)**2 >= x1+0.5) # Nonlinear constraint 2\n",
    "    ).astype(int) \n",
    "    * objective_heatmap,  # objective function,\n",
    "                extent=(x1.min(),x1.max(),x2.min(),x2.max()),origin=\"lower\", cmap=\"OrRd\", alpha = .8)\n",
    "\n",
    "\n",
    "x1nl = -1/2 + (x - 1)**2\n",
    "# Nonlinear constraint\n",
    "nl_const = ax.plot(x1nl, x, label=r'$(x_2-1)^2 \\geq x_1 + 1/2$')\n",
    "\n",
    "ax.get_legend().remove()\n",
    "ax.legend(bbox_to_anchor=(1.05, 1), loc=2, borderaxespad=0.)\n",
    "fig.canvas.draw()\n",
    "fig"
   ]
  },
  {
   "cell_type": "code",
   "execution_count": null,
   "metadata": {},
   "outputs": [],
   "source": [
    "# Define the integer model\n",
    "model_ncinlp = pyo.ConcreteModel(name='Simple example non-convex INP, 47-779 QuIP')\n",
    "#Define the variables\n",
    "model_ncinlp.x = pyo.Var([1,2], domain=pyo.Integers)\n",
    "# Define the objective function\n",
    "model_ncinlp.obj = pyo.Objective(rule = _obj, sense=pyo.maximize)\n",
    "# Define the constraints\n",
    "model_ncinlp.Constraint1 = pyo.Constraint(rule = _constraint1)\n",
    "\n",
    "model_ncinlp.Constraint2 = pyo.Constraint(rule = _constraint2)\n",
    "\n",
    "model_ncinlp.Constraint3 = pyo.Constraint(expr = (model_ncinlp.x[2]-1)**2 <= 2 - model_ncinlp.x[1])\n",
    "\n",
    "model_ncinlp.Constraint4 = pyo.Constraint(expr = (model_ncinlp.x[2]-1)**2 >= 1/2 + model_ncinlp.x[1])\n",
    "\n",
    "\n",
    "# Print the model\n",
    "model_ncinlp.pprint()"
   ]
  },
  {
   "cell_type": "code",
   "execution_count": null,
   "metadata": {},
   "outputs": [],
   "source": [
    "# Trying to solve the problem with BONMIN we might obtain the optimal solution, but we have no guarantees\n",
    "result_obj_ncinlp = opt_bonmin.solve(model_ncinlp, tee=False)\n",
    "model_ncinlp.display()"
   ]
  },
  {
   "cell_type": "code",
   "execution_count": null,
   "metadata": {},
   "outputs": [],
   "source": [
    "# Define the solver COUENNE\n",
    "if IN_COLAB:\n",
    "    opt_couenne = pyo.SolverFactory('couenne', executable='/content/solvers/couenne')\n",
    "else:\n",
    "    opt_couenne = pyo.SolverFactory('couenne')"
   ]
  },
  {
   "cell_type": "code",
   "execution_count": null,
   "metadata": {},
   "outputs": [],
   "source": [
    "# Trying to solve the problem with global MINLP solver COUENNE\n",
    "result_obj_ncinlp = opt_couenne.solve(model_ncinlp, tee=False)\n",
    "model_ncinlp.display()"
   ]
  },
  {
   "cell_type": "code",
   "execution_count": null,
   "metadata": {},
   "outputs": [],
   "source": [
    "ax.scatter(0,2,color='g', label='optimal solution nonconvex INLP')\n",
    "ax.get_legend().remove()\n",
    "ax.legend(bbox_to_anchor=(1.05, 1), loc=2, borderaxespad=0.)\n",
    "fig.canvas.draw()\n",
    "fig"
   ]
  },
  {
   "cell_type": "markdown",
   "metadata": {},
   "source": [
    "We are able to solve non-convex MINLP problems but the complexity of this problems leads to great challenges that need to be overcomed."
   ]
  },
  {
   "cell_type": "markdown",
   "metadata": {},
   "source": [
    "### Powerful commercial solver installation\n",
    "\n",
    "#### Gurobi Installation\n",
    "Gurobi is one of the most powerful LP and MIP solvers available today. They provide free academic licences. In order to install the software visit their **[Website](https://www.gurobi.com/)**, create an account, and obtain a license. Once you do that you can download and use the software.\n",
    "\n",
    "#### BARON Installation\n",
    "BARON is one of the most powerful MINLP solvers available today.  In order to install the software visit their **[Website](https://www.minlp.com/home)**, create an account, and obtain a license. Once you do that you can download and use the software."
   ]
  }
 ],
 "metadata": {
  "kernelspec": {
   "display_name": "Python 3",
   "language": "python",
   "name": "python3"
  },
  "language_info": {
   "codemirror_mode": {
    "name": "ipython",
    "version": 3
   },
   "file_extension": ".py",
   "mimetype": "text/x-python",
   "name": "python",
   "nbconvert_exporter": "python",
   "pygments_lexer": "ipython3",
   "version": "3.11.5"
  }
 },
 "nbformat": 4,
 "nbformat_minor": 2
}
